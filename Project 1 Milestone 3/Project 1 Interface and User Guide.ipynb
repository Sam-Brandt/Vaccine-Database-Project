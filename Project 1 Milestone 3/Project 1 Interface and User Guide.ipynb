{
 "cells": [
  {
   "cell_type": "markdown",
   "id": "ebe93dd4",
   "metadata": {},
   "source": [
    "# Welcome to the Wonderland Vaccine Registration Management Application!\n",
    "To begin, first run the cell below and enter the database's username and password to connect to the database."
   ]
  },
  {
   "cell_type": "code",
   "execution_count": null,
   "id": "34a6a8e3",
   "metadata": {},
   "outputs": [],
   "source": [
    "import mysql.connector\n",
    "import datetime\n",
    "\n",
    "def gen_n_spaces(n):\n",
    "    rv = \"\"\n",
    "    for i in range(0, n):\n",
    "        rv += \" \"\n",
    "    return rv\n",
    "\n",
    "def max_col_len(result, column_names, index):\n",
    "    cur_max = 0\n",
    "    for i in range(0, len(result)):\n",
    "        if (len(str(result[i][index]))) > cur_max:\n",
    "            cur_max = len(str(result[i][index]))\n",
    "    if cur_max > len(column_names[index]):\n",
    "        return cur_max\n",
    "    else:\n",
    "        return len(column_names[index])\n",
    "\n",
    "def print_query_result(result, column_names):\n",
    "    if len(result) == 0:\n",
    "        out_str = \"\"\n",
    "        for i in range(0, len(column_names)):\n",
    "            fld = column_names[i]\n",
    "            out_str += fld + gen_n_spaces(2)\n",
    "        print(out_str)\n",
    "        dashes = \"\"\n",
    "        for i in range(0, len(out_str)):\n",
    "            dashes += \"-\"\n",
    "        print(dashes)\n",
    "        print(\"No results.\")\n",
    "        return;\n",
    "    for i in range(0, len(result[0]) - len(column_names)):\n",
    "        column_names.append(\"\")\n",
    "    out_str = \"\"\n",
    "    for i in range(0, len(result[0])):\n",
    "        fld = column_names[i]\n",
    "        out_str += fld + gen_n_spaces(max_col_len(result, column_names, i) - len(fld) + 2)\n",
    "    print(out_str)\n",
    "    dashes = \"\"\n",
    "    for i in range(0, len(out_str)):\n",
    "        dashes += \"-\"\n",
    "    print(dashes)\n",
    "    for i in range(0, len(result)):\n",
    "        out_str = \"\"\n",
    "        for j in range(0, len(result[0])):\n",
    "            fld = str(result[i][j])\n",
    "            out_str += fld + gen_n_spaces(max_col_len(result, column_names, j) - len(fld) + 2)\n",
    "        print(out_str)\n",
    "\n",
    "currentDatetime = datetime.datetime(2021, 12, 15, hour = 13, minute = 0, second = 0)\n",
    "\n",
    "config = {\n",
    "   'user': input(\"Username: \"),\n",
    "   'password': input(\"Password: \"),\n",
    "   'host': 'localhost',\n",
    "   'port': 3306,\n",
    "   'database': 'wlvaxinfo2',\n",
    "   'raise_on_warnings': True                    \n",
    "}\n",
    "\n",
    "cnx = mysql.connector.connect(**config)\n",
    "\n",
    "cur = cnx.cursor()"
   ]
  },
  {
   "cell_type": "markdown",
   "id": "a77f6c56",
   "metadata": {},
   "source": [
    "Run the next cell to start a session as a user of this application from wonderland. For the data in the database after freshly running 'loadAll.sql', odd numbered PINs are health staff and a PIN equal to 1 is the cheif. Run this cell again to start a session as a different user."
   ]
  },
  {
   "cell_type": "code",
   "execution_count": null,
   "id": "3931795a",
   "metadata": {},
   "outputs": [],
   "source": [
    "userPIN = input(\"Enter PIN: \")\n",
    "staffmode = False\n",
    "cheifmode = False\n",
    "\n",
    "if userPIN.isnumeric() and len(userPIN) <= 16:\n",
    "    query = (\"\"\"SELECT first_name, last_name\n",
    "                FROM folk\n",
    "                WHERE PIN = \"\"\" + userPIN)\n",
    "    cur.execute(query)\n",
    "    result = cur.fetchall()\n",
    "    if len(result) == 1:\n",
    "        print(\"Welcome back, \" + result[0][0] + \" \" + result[0][1] + \"!\")\n",
    "        query = (\"\"\"SELECT is_cheif\n",
    "                    FROM health_staff\n",
    "                    WHERE PIN = \"\"\" + userPIN)\n",
    "        cur.execute(query)\n",
    "        result = cur.fetchall()\n",
    "        if len(result) == 1:\n",
    "            staffmode = True\n",
    "            if result[0][0] == \"Yes\":\n",
    "                cheifmode = True\n",
    "                print(\"You are using this app in cheif mode.\")\n",
    "            else:\n",
    "                print(\"You are using this app in staff mode.\")\n",
    "        else:\n",
    "            print(\"You are using this app in user mode.\")\n",
    "    else:\n",
    "        print(\"No one in the system has that PIN. Run the cell again.\")\n",
    "else:\n",
    "    print(\"PIN must be a positive integer with 16 (or less) digits. Run the cell again.\")"
   ]
  },
  {
   "cell_type": "markdown",
   "id": "0f7fc824",
   "metadata": {},
   "source": [
    "The cell below allows an application tester to simulate time passing. Enter the date as YYYY then MM then DD and the time as HH then MM then SS. Hitting enter for each will use the default datetime of \"2021-12-15 13:00:00\" (1PM)."
   ]
  },
  {
   "cell_type": "code",
   "execution_count": null,
   "id": "0602f490",
   "metadata": {},
   "outputs": [],
   "source": [
    "currentDatetime = datetime.datetime(2021, 12, 15, hour = 13, minute = 0, second = 0)\n",
    "\n",
    "year = input(\"Year: \")\n",
    "month = input(\"Month: \")\n",
    "day = input(\"Day: \")\n",
    "h = input(\"Hour: \")\n",
    "m = input(\"Minute: \")\n",
    "s = input(\"Second: \")\n",
    "if len(year+month+day+h+m+s) > 0:\n",
    "    currentDatetime = datetime.datetime(int(year), int(month), int(day), hour = int(h), minute = int(m), second = int(s))\n",
    "    \n",
    "print(\"\\nCurrent Datetime: \" + str(currentDatetime))"
   ]
  },
  {
   "cell_type": "markdown",
   "id": "34f6aa7e",
   "metadata": {},
   "source": [
    "# Transactions"
   ]
  },
  {
   "cell_type": "markdown",
   "id": "679c9203",
   "metadata": {},
   "source": [
    "The cell below allows the cheif to dispatch health staff for a certain date. The current time must be between 10am and 3pm (15:00:00). Note that they are already dispatched for the default date, so dispatching them further isn't necesary, although can be done."
   ]
  },
  {
   "cell_type": "code",
   "execution_count": null,
   "id": "6f84b92f",
   "metadata": {},
   "outputs": [],
   "source": [
    "def check_if_assigned(tup, qinfo):\n",
    "    for i in range(0, len(qinfo)):\n",
    "        if tup[0] == str(qinfo[i][0]):\n",
    "            if tup[1] == str(qinfo[i][1]):\n",
    "                return True\n",
    "    return False\n",
    "    \n",
    "\n",
    "if cheifmode:\n",
    "    \n",
    "    if currentDatetime.time().hour >= 10 and currentDatetime.time().hour < 15:\n",
    "\n",
    "        query = (\"\"\"SELECT PIN\n",
    "                    FROM health_staff\"\"\")\n",
    "        cur.execute(query)\n",
    "        hsPINs = cur.fetchall()\n",
    "\n",
    "        print(\"These are the health worker's PINs:\")\n",
    "        pin_info = \"\"\n",
    "        for i in range(0, len(hsPINs)):\n",
    "            pin_info += str(hsPINs[i][0])\n",
    "            if i < len(hsPINs) - 1:\n",
    "                pin_info += \", \"\n",
    "        print(pin_info)\n",
    "\n",
    "        query = (\"\"\"SELECT place_id\n",
    "                    FROM health_center\"\"\")\n",
    "        cur.execute(query)\n",
    "        hcIDs = cur.fetchall()\n",
    "\n",
    "        print(\"\\nThese are the health center's place_ids:\")\n",
    "        hc_info = \"\"\n",
    "        for i in range(0, len(hcIDs)):\n",
    "            hc_info += str(hcIDs[i][0])\n",
    "            if i < len(hcIDs) - 1:\n",
    "                hc_info += \", \"\n",
    "        print(hc_info)\n",
    "\n",
    "        tomorrow = str(currentDatetime.date() + datetime.timedelta(days=1))\n",
    "        query = (\"\"\"SELECT PIN, place_id\n",
    "                    FROM dispatched_to\n",
    "                    WHERE date = \\\"\"\"\" + tomorrow + \"\\\"\")\n",
    "        cur.execute(query)\n",
    "        dsptmts = cur.fetchall()\n",
    "        print(\"\\nThese are the current dispatchments\")\n",
    "        print(\"PIN\" + gen_n_spaces(14) + \"place_id\")\n",
    "        for i in range(0, len(dsptmts)):\n",
    "            print(str(dsptmts[i][0]) + gen_n_spaces(17 - len(str(dsptmts[i][0]))) + str(dsptmts[i][1]))\n",
    "\n",
    "        print(\"\\nEnter the PIN of the health staff you're dispatching.\")\n",
    "        dispPIN = input()\n",
    "        print(\"Enter the place_id of the health center you're dispatching them to.\")\n",
    "        dispplaceid = input()\n",
    "        if not check_if_assigned((dispPIN, dispplaceid), dsptmts):\n",
    "            transaction = (\"\"\"INSERT INTO dispatched_to\n",
    "                            VALUES (\"\"\" + dispPIN + \",\" + dispplaceid + \",\\\"\" + tomorrow + \"\\\")\")\n",
    "            cur.execute(transaction)\n",
    "            print(\"\\nDispatchment successful.\")\n",
    "        else:\n",
    "            print(\"\\nThis dispatchment was already made!\")\n",
    "    \n",
    "    else:\n",
    "        print(\"Dispatchments can't be done at this time!\")\n",
    "    \n",
    "else:\n",
    "    print(\"You are not the chief!\")"
   ]
  },
  {
   "cell_type": "markdown",
   "id": "3176ae27",
   "metadata": {},
   "source": [
    "The cell below allows a health staff member to input the information for a new health center."
   ]
  },
  {
   "cell_type": "code",
   "execution_count": null,
   "id": "4f7b8954",
   "metadata": {},
   "outputs": [],
   "source": [
    "if staffmode:\n",
    "    place_id = input(\"place_id: \")\n",
    "    street_number = input(\"Street Number: \")\n",
    "    street_name = input(\"Street Name: \")\n",
    "    city = input(\"City: \")\n",
    "    state = input(\"State: \")\n",
    "    zipcode = input(\"Zipcode (5 digits)): \")\n",
    "    coord_x = input(\"X Coordinate: \")\n",
    "    coord_y = input(\"Y Coordinate: \")\n",
    "    mullinstr = \"INSERT INTO place VALUES \"\n",
    "    mullinstr += \"(\"\"\" + place_id + \",\" + street_number + \",\\\"\"\n",
    "    mullinstr += street_name + \"\\\",\\\"\" + city + \"\\\",\\\"\" + state + \"\\\",\"\n",
    "    mullinstr += zipcode  + \",\" + coord_x + \",\" + coord_y + \")\"\n",
    "    transaction = (mullinstr)\n",
    "    cur.execute(transaction)\n",
    "    transaction = (\"\"\"INSERT INTO health_center\n",
    "                    VALUES (\"\"\" + place_id + \")\")\n",
    "    cur.execute(transaction)\n",
    "    print(\"\\nHealth center creation successful!\")\n",
    "else:\n",
    "    print(\"You are not a member of staff!\")"
   ]
  },
  {
   "cell_type": "markdown",
   "id": "b8072b76",
   "metadata": {},
   "source": [
    "The cell below allows a staff member to change a folk's PIN."
   ]
  },
  {
   "cell_type": "code",
   "execution_count": null,
   "id": "104c4f9c",
   "metadata": {},
   "outputs": [],
   "source": [
    "if staffmode:\n",
    "    query = (\"\"\"SELECT PIN, first_name, last_name\n",
    "                FROM folk\"\"\")\n",
    "    cur.execute(query)\n",
    "    folkdata = cur.fetchall()\n",
    "\n",
    "    print(\"\\nThese are the current PINs and associated people:\")\n",
    "    for i in range(0, len(folkdata)):\n",
    "        print(str(folkdata[i][0]) + \" \" + folkdata[i][1] + \" \" + folkdata[i][2])\n",
    "    \n",
    "    oldPIN = input(\"\\nEnter the PIN you want to change: \")\n",
    "    newPIN = input(\"New value: \")\n",
    "    transaction = (\"UPDATE folk SET PIN = \" + newPIN + \" WHERE PIN = \" + oldPIN)\n",
    "    cur.execute(transaction)\n",
    "    if (oldPIN == userPIN):\n",
    "        userPIN = newPIN\n",
    "        \n",
    "    print(\"\\nPin change successful!\")\n",
    "    \n",
    "else:\n",
    "    print(\"You are not a member of staff!\")"
   ]
  },
  {
   "cell_type": "markdown",
   "id": "4e76dbac",
   "metadata": {},
   "source": [
    "The cell below allows any user to register for a vaccine appointment or change their existing registration. Starting a session as user 7-12 and choosing the date \"2022-01-07\" will have the most edge-case-y results for the number of people already registered."
   ]
  },
  {
   "cell_type": "code",
   "execution_count": null,
   "id": "b13c76ef",
   "metadata": {},
   "outputs": [],
   "source": [
    "print(\"Enter the date you want to register for/change your registration to.\")\n",
    "year = input(\"Year: \")\n",
    "month = input(\"Month: \")\n",
    "day = input(\"Day: \")\n",
    "\n",
    "reg_date = datetime.date(int(year), int(month), int(day))\n",
    "\n",
    "if reg_date <= currentDatetime.date():\n",
    "    print(\"\\nIt's too late to register for that date!\")\n",
    "else:\n",
    "    query = (\"\"\"SELECT local_centers.place_id, COUNT(PIN)\n",
    "    FROM (SELECT place_id\n",
    "    FROM health_center NATURAL JOIN place\n",
    "    WHERE city = (SELECT city\n",
    "            FROM folk JOIN place\n",
    "            ON folk.res_id = place.place_id\n",
    "            WHERE PIN = \"\"\"+userPIN+\"\"\")) AS local_centers\n",
    "        LEFT OUTER JOIN\n",
    "        (SELECT PIN, place_id\n",
    "        FROM place NATURAL JOIN\n",
    "        health_center NATURAL JOIN registered_for\n",
    "        WHERE date = \\\"\"\"\"+str(reg_date)+\"\"\"\\\") as res_info\n",
    "        ON local_centers.place_id = res_info.place_id\n",
    "    GROUP BY place_id\"\"\")\n",
    "    cur.execute(query)\n",
    "    hcdata = cur.fetchall()\n",
    "\n",
    "    mullinstr = \"\\nThese are the health centers in your city's place_ids \"\n",
    "    mullinstr += \"along with the current number of people registered for that date:\\n\"\n",
    "    print(mullinstr)\n",
    "    for i in range(0, len(hcdata)):\n",
    "        print(str(hcdata[i][0]) + \": \" + str(hcdata[i][1]) + \" people registered.\")\n",
    "\n",
    "    print(\"\\nEnter the place_id of the health center you want to register for.\")\n",
    "    hcpi = input()\n",
    "\n",
    "    transaction = (\"INSERT INTO registered_for VALUES (\"+userPIN+\",\"+hcpi+\",\\\"\"+str(reg_date)+\"\"\"\\\")\n",
    "                    ON DUPLICATE KEY\n",
    "                    UPDATE\n",
    "                    place_id = \"\"\"+hcpi+\", date = \\\"\"+str(reg_date)+\"\\\"\")\n",
    "    cur.execute(transaction)\n",
    "\n",
    "    print(\"\\nRegistration successful!\")"
   ]
  },
  {
   "cell_type": "markdown",
   "id": "ccc861a6",
   "metadata": {},
   "source": [
    "The below cell allows a staff member to delete an existing health center."
   ]
  },
  {
   "cell_type": "code",
   "execution_count": null,
   "id": "534464db",
   "metadata": {},
   "outputs": [],
   "source": [
    "if staffmode:\n",
    "    query = (\"\"\"SELECT place_id\n",
    "                FROM health_center\"\"\")\n",
    "    cur.execute(query)\n",
    "    hcIDs = cur.fetchall()\n",
    "    \n",
    "    print(\"\\nThese are the health center's place_ids:\")\n",
    "    hc_info = \"\"\n",
    "    for i in range(0, len(hcIDs)):\n",
    "        hc_info += str(hcIDs[i][0])\n",
    "        if i < len(hcIDs) - 1:\n",
    "            hc_info += \", \"\n",
    "    print(hc_info)\n",
    "    \n",
    "    place_id = input(\"\\nEnter the place_id of the health_center to be deleted: \")\n",
    "    transaction = (\"\"\"DELETE FROM place\n",
    "                    WHERE place_id IN (SELECT place_id FROM health_center)\n",
    "                    AND place_id = \"\"\" + place_id)\n",
    "    cur.execute(transaction)\n",
    "    print(\"\\nHealth center deletion successful!\")\n",
    "else:\n",
    "    print(\"You are not a member of staff!\")"
   ]
  },
  {
   "cell_type": "markdown",
   "id": "35828f4a",
   "metadata": {},
   "source": [
    "The cell below allows a staff member to update the coordinates of a place."
   ]
  },
  {
   "cell_type": "code",
   "execution_count": null,
   "id": "807d8f46",
   "metadata": {},
   "outputs": [],
   "source": [
    "if staffmode:\n",
    "    query = (\"\"\"SELECT place_id, coord_x, coord_y\n",
    "                FROM place\"\"\")\n",
    "    cur.execute(query)\n",
    "    hcinfo = cur.fetchall()\n",
    "    \n",
    "    print(\"\\nThese are the current place_ids along with their current coordinates:\")\n",
    "    for i in range(0, len(hcinfo)):\n",
    "        print(str(hcinfo[i][0]) + \": (\" + str(hcinfo[i][1]) + \", \" + str(hcinfo[i][2]) + \")\")\n",
    "    \n",
    "    place_id = input(\"\\nEnter the place_id of the place you wish to change the coordinates of: \")\n",
    "    coord_x = input(\"Enter the new X coordinate: \")\n",
    "    coord_y = input(\"Enter the new Y coordinate: \")\n",
    "    transaction = (\"\"\"UPDATE place\n",
    "                    SET coord_x = \"\"\" + coord_x + \", coord_y = \" + coord_y + \"\"\"\n",
    "                    WHERE place_id = \"\"\" + place_id)\n",
    "    cur.execute(transaction)\n",
    "    print(\"\\nCoordinate change successful!\")\n",
    "else:\n",
    "    print(\"You are not a member of staff!\")"
   ]
  },
  {
   "cell_type": "markdown",
   "id": "0204a8e7",
   "metadata": {},
   "source": [
    "# Queries/Reports"
   ]
  },
  {
   "cell_type": "markdown",
   "id": "97064d64",
   "metadata": {},
   "source": [
    "The cell below will list the name and age of all folks."
   ]
  },
  {
   "cell_type": "code",
   "execution_count": null,
   "id": "a921f5db",
   "metadata": {},
   "outputs": [],
   "source": [
    "print(\"Name and age of all folks:\\n\")\n",
    "\n",
    "query = (\"\"\"SELECT CONCAT(first_name, \" \", last_name) AS name, \n",
    "                CASE\n",
    "                    WHEN\n",
    "                        MONTH(today) < MONTH(dob)\n",
    "                        OR (MONTH(today) = MONTH(dob)\n",
    "                        AND DAY(today) < DAY(dob))\n",
    "                    THEN\n",
    "                        YEAR(today) - YEAR(dob) - 1\n",
    "                    ELSE\n",
    "                        YEAR(today) - YEAR(dob)\n",
    "                END AS age\n",
    "            FROM folk, (SELECT \\\"\"\"\"+str(currentDatetime.date())+\"\\\" AS today) AS temp\")\n",
    "cur.execute(query)\n",
    "result = cur.fetchall()\n",
    "print_query_result(result, [\"Name\", \"Age\"])"
   ]
  },
  {
   "cell_type": "markdown",
   "id": "178c1f47",
   "metadata": {},
   "source": [
    "The cell below will list the city name, state, and number of residents for each city."
   ]
  },
  {
   "cell_type": "code",
   "execution_count": null,
   "id": "6d23ad4f",
   "metadata": {},
   "outputs": [],
   "source": [
    "print(\"City, state, and number of residents of each city:\\n\")\n",
    "\n",
    "query = (\"\"\"SELECT city, state, COUNT(res_id) as resident_count\n",
    "            FROM (residence NATURAL JOIN place)\n",
    "                JOIN folk ON residence.place_id = folk.res_id\n",
    "            GROUP BY city\n",
    "            ORDER BY resident_count DESC\"\"\")\n",
    "cur.execute(query)\n",
    "result = cur.fetchall()\n",
    "print_query_result(result, [\"City\", \"State\", \"Number of Residents\"])"
   ]
  },
  {
   "cell_type": "markdown",
   "id": "c2e49142",
   "metadata": {},
   "source": [
    "The cell below will list state names and the number of places in each state."
   ]
  },
  {
   "cell_type": "code",
   "execution_count": null,
   "id": "c5e4fbdd",
   "metadata": {},
   "outputs": [],
   "source": [
    "print(\"States and their number of places:\\n\")\n",
    "\n",
    "query = (\"\"\"SELECT state, count(residence.place_id)\n",
    "            FROM place LEFT OUTER JOIN residence ON place.place_id = residence.place_id\n",
    "            GROUP BY state\n",
    "            ORDER BY state ASC;\"\"\")\n",
    "cur.execute(query)\n",
    "result = cur.fetchall()\n",
    "print_query_result(result, [\"State\", \"Number of Places\"])"
   ]
  },
  {
   "cell_type": "markdown",
   "id": "5213acee",
   "metadata": {},
   "source": [
    "The cell below will list the PINs of all the people registered for a given health center between two given dates. After a fresh run of loadAll.sql, all folks will be registered between December 2021 and February 2022."
   ]
  },
  {
   "cell_type": "code",
   "execution_count": null,
   "id": "a7750845",
   "metadata": {},
   "outputs": [],
   "source": [
    "query = (\"\"\"SELECT place_id\n",
    "            FROM health_center\"\"\")\n",
    "cur.execute(query)\n",
    "hcIDs = cur.fetchall()\n",
    "\n",
    "print(\"\\nThese are the health center's place_ids:\")\n",
    "hc_info = \"\"\n",
    "for i in range(0, len(hcIDs)):\n",
    "    hc_info += str(hcIDs[i][0])\n",
    "    if i < len(hcIDs) - 1:\n",
    "        hc_info += \", \"\n",
    "print(hc_info)\n",
    "\n",
    "print(\"\\nEnter the place_id of the health center you want information about.\")\n",
    "hcid = input()\n",
    "print(\"Enter the beginning date of the range.\")\n",
    "year1 = input(\"Year: \")\n",
    "month1 = input(\"Month: \")\n",
    "day1 = input(\"Day: \")\n",
    "begin_date = datetime.date(int(year1), int(month1), int(day1))\n",
    "print(\"Enter the end date of the range.\")\n",
    "year2 = input(\"Year: \")\n",
    "month2 = input(\"Month: \")\n",
    "day2 = input(\"Day: \")\n",
    "end_date = datetime.date(int(year2), int(month2), int(day2))\n",
    "\n",
    "print(\"\\nPINs of the users who are registered there and then:\\n\")\n",
    "\n",
    "query = (\"\"\"SELECT PIN\n",
    "            FROM registered_for\n",
    "            WHERE date BETWEEN \\\"\"\"\"+str(begin_date)+\"\\\" AND \\\"\"+str(end_date)+\"\"\"\\\"\n",
    "            AND place_id = \"\"\" + hcid)\n",
    "cur.execute(query)\n",
    "result = cur.fetchall()\n",
    "print_query_result(result, [\"PIN\", \"Number of Places\"])"
   ]
  },
  {
   "cell_type": "markdown",
   "id": "9e228b18",
   "metadata": {},
   "source": [
    "The cell below will give the number of staff working at health centers within 5 miles of the center of Megapolis in a given month, with the exception of a list of locations provided by the user."
   ]
  },
  {
   "cell_type": "code",
   "execution_count": null,
   "id": "d98bd32f",
   "metadata": {},
   "outputs": [],
   "source": [
    "month = input(\"Month: \")\n",
    "\n",
    "mullinstr = \"\\nEnter in a list of coordinates of locations to exclude, \"\n",
    "mullinstr += \"hit return at the beginning of an entry to finish.\\n\"\n",
    "print(mullinstr)\n",
    "coords = []\n",
    "done = False\n",
    "while not done:\n",
    "    coord_x = input(\"X: \")\n",
    "    if len(coord_x) != 0:\n",
    "        coord_y= input(\"Y: \")\n",
    "        coords.append((coord_x, coord_y))\n",
    "    else:\n",
    "        done = True\n",
    "        \n",
    "print()\n",
    "        \n",
    "query = \"\"\"SELECT COUNT(DISTINCT PIN) as staff_within_five_miles\n",
    "        FROM dispatched_to NATURAL JOIN health_center NATURAL JOIN place\n",
    "        WHERE POWER(coord_x, 2) + POWER(coord_y, 2) <= 25 \"\"\"\n",
    "if (len(coords) > 0):\n",
    "    query += \"AND (coord_x, coord_y) NOT IN (\"\n",
    "    for i in range(0, len(coords)):\n",
    "        query += \"(\" + coords[i][0] + \",\" + coords[i][1] + \")\"\n",
    "        if i < len(coords) - 1:\n",
    "            query += \",\"\n",
    "    query += \") \"\n",
    "query += \"AND MONTH(date) = \" + month\n",
    "cur.execute(query)\n",
    "result = cur.fetchall()\n",
    "print_query_result(result, [\"Number Of Staff\"])"
   ]
  },
  {
   "cell_type": "markdown",
   "id": "c5a23d41",
   "metadata": {},
   "source": [
    "The cell below will find the most popular health centers for a given month within a given city. The default cities are \"Megapolis\" and \"The Primary Keys\"."
   ]
  },
  {
   "cell_type": "code",
   "execution_count": null,
   "id": "0d7d9908",
   "metadata": {},
   "outputs": [],
   "source": [
    "month = input(\"Month: \")\n",
    "city = input(\"City: \")\n",
    "\n",
    "print(\"\\nMost popular health centers in that city in that month:\\n\")\n",
    "\n",
    "query = (\"\"\"SELECT place.*\n",
    "            FROM place NATURAL JOIN health_center NATURAL JOIN registered_for\n",
    "                JOIN\n",
    "                (SELECT city, MONTH(date) as month, MAX(popularity) AS most_pop\n",
    "                FROM place NATURAL JOIN health_center NATURAL JOIN registered_for\n",
    "                    NATURAL JOIN\n",
    "                    (SELECT place_id, COUNT(PIN) AS popularity\n",
    "                    FROM place NATURAL JOIN health_center NATURAL JOIN registered_for\n",
    "                    GROUP BY city, MONTH(date), place_id) AS pop_info\n",
    "                GROUP BY city, month) AS max_pop_info ON place.city = max_pop_info.city\n",
    "                                    AND MONTH(registered_for.date) = max_pop_info.month\n",
    "            WHERE place.city = \\\"\"\"\" + city + \"\\\" AND MONTH(date) = \" + month + \"\"\"\n",
    "            GROUP BY place.city, max_pop_info.month, place_id\n",
    "            HAVING COUNT(PIN) = ROUND(AVG(most_pop), 0)\"\"\")\n",
    "cur.execute(query)\n",
    "result = cur.fetchall()\n",
    "print_query_result(result, [\"place_id\", \"Street Number\", \"Street Name\", \"City\", \"State\",\n",
    "                            \"Zip Code\", \"X Coordinate\", \"Y Coordinate\"])"
   ]
  },
  {
   "cell_type": "markdown",
   "id": "7a7dbdd9",
   "metadata": {},
   "source": [
    "The cell below will find the staff that have been dispatched to every health center in a given state. Default state names are \"Oheyo\" and \"Floorida\"."
   ]
  },
  {
   "cell_type": "code",
   "execution_count": null,
   "id": "171da534",
   "metadata": {},
   "outputs": [],
   "source": [
    "state = input(\"State: \")\n",
    "\n",
    "print(\"\\nStaff that have been dispatched to every health center in that state:\\n\")\n",
    "\n",
    "query = (\"\"\"SELECT folk.*\n",
    "            FROM folk NATURAL JOIN\n",
    "                ((SELECT PIN, state, COUNT(dispatched_to.place_id) as num_dispatched\n",
    "                FROM dispatched_to NATURAL JOIN health_center NATURAL JOIN place\n",
    "                GROUP BY PIN, state) AS dispatch_info\n",
    "                JOIN\n",
    "                (SELECT state, COUNT(place_id) as num_hcs\n",
    "                FROM health_center NATURAL JOIN place\n",
    "                GROUP BY state) as state_hc_info\n",
    "                ON dispatch_info.state = state_hc_info.state\n",
    "                    AND dispatch_info.num_dispatched = state_hc_info.num_hcs)\n",
    "            WHERE dispatch_info.state = \\\"\"\"\" + state +\"\\\"\")\n",
    "cur.execute(query)\n",
    "result = cur.fetchall()\n",
    "print_query_result(result, [\"PIN\", \"First Name\", \"Last Name\", \"DOB\", \"Work Phone\",\n",
    "                            \"Mobile Phone\", \"Home Phone\", \"Residence place_id\"])"
   ]
  },
  {
   "cell_type": "markdown",
   "id": "81f66aea",
   "metadata": {},
   "source": [
    "The cell below finds folks that are registered to a health center further away than the closest one to their residence."
   ]
  },
  {
   "cell_type": "code",
   "execution_count": null,
   "id": "8f617f15",
   "metadata": {},
   "outputs": [],
   "source": [
    "print(\"Folks registered to a health center further away than the closest one to them:\\n\")\n",
    "\n",
    "query = (\"\"\"SELECT folk.*\n",
    "FROM folk NATURAL JOIN\n",
    "    (SELECT PIN, POWER(hc_place_info.coord_x - res_place_info.coord_x, 2)\n",
    "        + POWER(hc_place_info.coord_y - res_place_info.coord_y, 2) as squared_distance\n",
    "    FROM (place as hc_place_info) NATURAL JOIN health_center NATURAL JOIN\n",
    "        registered_for NATURAL JOIN folk JOIN (place as res_place_info)\n",
    "        ON folk.res_id = res_place_info.place_id) AS dist_to_reg\n",
    "    JOIN\n",
    "    (SELECT PIN, MIN(POWER(hc_place_info.coord_x - res_place_info.coord_x, 2)\n",
    "            + POWER(hc_place_info.coord_y - res_place_info.coord_y, 2)) as squared_distance\n",
    "    FROM folk JOIN (place as res_place_info)\n",
    "        ON folk.res_id = res_place_info.place_id,\n",
    "        health_center NATURAL JOIN (place as hc_place_info)\n",
    "    GROUP BY (PIN)) AS closest_hc\n",
    "    ON dist_to_reg.PIN = closest_hc.PIN\n",
    "WHERE dist_to_reg.squared_distance > closest_hc.squared_distance\"\"\")\n",
    "cur.execute(query)\n",
    "result = cur.fetchall()\n",
    "print_query_result(result, [\"PIN\", \"First Name\", \"Last Name\", \"DOB\", \"Work Phone\",\n",
    "                            \"Mobile Phone\", \"Home Phone\", \"Residence place_id\"])"
   ]
  },
  {
   "cell_type": "markdown",
   "id": "6dc46a55",
   "metadata": {},
   "source": [
    "The cell below finds the number of people registered for a given month who live within 10 miles of a given location. By default all residences are pretty close to either (0, 0) or (1337, 2021)."
   ]
  },
  {
   "cell_type": "code",
   "execution_count": null,
   "id": "c70b57fc",
   "metadata": {},
   "outputs": [],
   "source": [
    "month = input(\"Month: \")\n",
    "coord_x = input(\"X coordinate:\")\n",
    "coord_y = input(\"X coordinate:\")\n",
    "\n",
    "print(\"\\nNumber of people registered within 10 miles of that location in that month:\")\n",
    "\n",
    "cur.execute(\"SELECT num_folks_registered(\"+month+\", \"+coord_x+\", \"+coord_y+\")\")\n",
    "result = cur.fetchall()\n",
    "print(result[0][0])"
   ]
  },
  {
   "cell_type": "markdown",
   "id": "87be0bcf",
   "metadata": {},
   "source": [
    "# Exiting\n",
    "\n",
    "Run the below cell when you're done using the application to close the connection."
   ]
  },
  {
   "cell_type": "code",
   "execution_count": null,
   "id": "df3b7855",
   "metadata": {},
   "outputs": [],
   "source": [
    "cur.close()\n",
    "cnx.close()"
   ]
  }
 ],
 "metadata": {
  "kernelspec": {
   "display_name": "Python 3",
   "language": "python",
   "name": "python3"
  },
  "language_info": {
   "codemirror_mode": {
    "name": "ipython",
    "version": 3
   },
   "file_extension": ".py",
   "mimetype": "text/x-python",
   "name": "python",
   "nbconvert_exporter": "python",
   "pygments_lexer": "ipython3",
   "version": "3.8.8"
  }
 },
 "nbformat": 4,
 "nbformat_minor": 5
}
